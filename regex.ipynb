{
  "nbformat": 4,
  "nbformat_minor": 0,
  "metadata": {
    "colab": {
      "name": "regex.ipynb",
      "provenance": [],
      "authorship_tag": "ABX9TyMlw1urcCJpXPrrERvfwGBW",
      "include_colab_link": true
    },
    "kernelspec": {
      "name": "python3",
      "display_name": "Python 3"
    },
    "language_info": {
      "name": "python"
    }
  },
  "cells": [
    {
      "cell_type": "markdown",
      "metadata": {
        "id": "view-in-github",
        "colab_type": "text"
      },
      "source": [
        "<a href=\"https://colab.research.google.com/github/klee48862/technical-discussion/blob/main/regex.ipynb\" target=\"_parent\"><img src=\"https://colab.research.google.com/assets/colab-badge.svg\" alt=\"Open In Colab\"/></a>"
      ]
    },
    {
      "cell_type": "markdown",
      "metadata": {
        "id": "xZ_3RxZ4kfJL"
      },
      "source": [
        "This is the first task of this project to learn regular expressions in python\n"
      ]
    },
    {
      "cell_type": "code",
      "metadata": {
        "id": "5hzNHY8Bk0CV"
      },
      "source": [
        "\n",
        "import re"
      ],
      "execution_count": 2,
      "outputs": []
    },
    {
      "cell_type": "markdown",
      "metadata": {
        "id": "zvP0NlSvk9Pm"
      },
      "source": [
        "#Metacharacters\n",
        "^$"
      ]
    },
    {
      "cell_type": "code",
      "metadata": {
        "id": "sQ9QOqErlx5n"
      },
      "source": [
        "st = 'dogs are adorable'"
      ],
      "execution_count": 3,
      "outputs": []
    },
    {
      "cell_type": "code",
      "metadata": {
        "id": "YEzAx3XGl3DL"
      },
      "source": [
        "p = '^dogs'"
      ],
      "execution_count": 4,
      "outputs": []
    },
    {
      "cell_type": "code",
      "metadata": {
        "colab": {
          "base_uri": "https://localhost:8080/"
        },
        "id": "aS5nxf7Tl-HU",
        "outputId": "bd6bb0d6-1aae-4615-97a7-ea4682affc4e"
      },
      "source": [
        "re.search(p, st)"
      ],
      "execution_count": 5,
      "outputs": [
        {
          "output_type": "execute_result",
          "data": {
            "text/plain": [
              "<re.Match object; span=(0, 4), match='dogs'>"
            ]
          },
          "metadata": {
            "tags": []
          },
          "execution_count": 5
        }
      ]
    },
    {
      "cell_type": "code",
      "metadata": {
        "id": "Ye3VrWQXmdm3"
      },
      "source": [
        "p2 = 'dogs$'"
      ],
      "execution_count": 6,
      "outputs": []
    },
    {
      "cell_type": "code",
      "metadata": {
        "colab": {
          "base_uri": "https://localhost:8080/"
        },
        "id": "QvGUrDRKmjwF",
        "outputId": "bf98e771-b84d-4d22-8b8c-859a42d6376f"
      },
      "source": [
        "print(re.search(p2, st))"
      ],
      "execution_count": 7,
      "outputs": [
        {
          "output_type": "stream",
          "text": [
            "None\n"
          ],
          "name": "stdout"
        }
      ]
    },
    {
      "cell_type": "markdown",
      "metadata": {
        "id": "b6Uz6vWAm8zN"
      },
      "source": [
        "#Quantifiers\n",
        "?+*"
      ]
    },
    {
      "cell_type": "code",
      "metadata": {
        "id": "bMDxpPwDnV1Q"
      },
      "source": [
        "st2 = 'color'\n",
        "st3 = 'colour'"
      ],
      "execution_count": 8,
      "outputs": []
    },
    {
      "cell_type": "code",
      "metadata": {
        "colab": {
          "base_uri": "https://localhost:8080/"
        },
        "id": "OGAm2dU1nth-",
        "outputId": "f9ad66df-ce7b-4374-fc03-429bb568b34d"
      },
      "source": [
        "re.search('colou?r', st3)"
      ],
      "execution_count": 9,
      "outputs": [
        {
          "output_type": "execute_result",
          "data": {
            "text/plain": [
              "<re.Match object; span=(0, 6), match='colour'>"
            ]
          },
          "metadata": {
            "tags": []
          },
          "execution_count": 9
        }
      ]
    },
    {
      "cell_type": "code",
      "metadata": {
        "id": "S7FvEE1hoEzE"
      },
      "source": [
        "st4 = 'ac'\n",
        "st5 = 'abc'\n",
        "st6 = 'abbc'"
      ],
      "execution_count": 10,
      "outputs": []
    },
    {
      "cell_type": "code",
      "metadata": {
        "colab": {
          "base_uri": "https://localhost:8080/"
        },
        "id": "VVmjJl-koODV",
        "outputId": "472efe1f-d01b-4ba9-f75a-0ce2cf4ec36b"
      },
      "source": [
        "re.search('ab+c', st6)"
      ],
      "execution_count": 11,
      "outputs": [
        {
          "output_type": "execute_result",
          "data": {
            "text/plain": [
              "<re.Match object; span=(0, 4), match='abbc'>"
            ]
          },
          "metadata": {
            "tags": []
          },
          "execution_count": 11
        }
      ]
    },
    {
      "cell_type": "markdown",
      "metadata": {
        "id": "F6YN-cd4oYsa"
      },
      "source": [
        "#Metacharacters\n",
        "-."
      ]
    },
    {
      "cell_type": "markdown",
      "metadata": {
        "id": "kBplfYLqpzRW"
      },
      "source": [
        "# Sets\n",
        "[ ]\n",
        "\n",
        "[^a-n]\n",
        "\n",
        "[0145][0-9][0-5][0-9][a-Z]\n"
      ]
    },
    {
      "cell_type": "code",
      "metadata": {
        "id": "io36sryPqmsB"
      },
      "source": [
        "import re\n",
        "str = 'dogs are adorable'"
      ],
      "execution_count": 12,
      "outputs": []
    },
    {
      "cell_type": "code",
      "metadata": {
        "colab": {
          "base_uri": "https://localhost:8080/"
        },
        "id": "TOl1Q445q1px",
        "outputId": "0e25e07c-273d-41e0-ca01-81a07ad0d60c"
      },
      "source": [
        "re.search('[a-d]', 'dogs are adorable')"
      ],
      "execution_count": 13,
      "outputs": [
        {
          "output_type": "execute_result",
          "data": {
            "text/plain": [
              "<re.Match object; span=(0, 1), match='d'>"
            ]
          },
          "metadata": {
            "tags": []
          },
          "execution_count": 13
        }
      ]
    },
    {
      "cell_type": "code",
      "metadata": {
        "colab": {
          "base_uri": "https://localhost:8080/"
        },
        "id": "phJ77ucdsSv0",
        "outputId": "a1686acd-3961-4049-f2cb-1e59cf3edeac"
      },
      "source": [
        "re.findall('[a-d]', str)"
      ],
      "execution_count": 14,
      "outputs": [
        {
          "output_type": "execute_result",
          "data": {
            "text/plain": [
              "['d', 'a', 'a', 'd', 'a', 'b']"
            ]
          },
          "metadata": {
            "tags": []
          },
          "execution_count": 14
        }
      ]
    },
    {
      "cell_type": "markdown",
      "metadata": {
        "id": "wfERzbnstBq2"
      },
      "source": [
        "# Special Sequences\n",
        "\n",
        "\\d [0-9]\n",
        "\n",
        "\\w [0-9a-Z_]"
      ]
    },
    {
      "cell_type": "code",
      "metadata": {
        "colab": {
          "base_uri": "https://localhost:8080/"
        },
        "id": "1egVWQzbtRfZ",
        "outputId": "752e68b7-8344-46b0-ce4d-a85820755ccc"
      },
      "source": [
        "re.findall('\\d', 'my password is pass1234')"
      ],
      "execution_count": 16,
      "outputs": [
        {
          "output_type": "execute_result",
          "data": {
            "text/plain": [
              "['1', '2', '3', '4']"
            ]
          },
          "metadata": {
            "tags": []
          },
          "execution_count": 16
        }
      ]
    },
    {
      "cell_type": "markdown",
      "metadata": {
        "id": "I_sUPZXQkTcK"
      },
      "source": [
        ""
      ]
    },
    {
      "cell_type": "code",
      "metadata": {
        "id": "mjX0LywcphD5"
      },
      "source": [
        "regex = '[A-Za-z0-9@#$%^&+=]{8,}'"
      ],
      "execution_count": 17,
      "outputs": []
    },
    {
      "cell_type": "code",
      "metadata": {
        "colab": {
          "base_uri": "https://localhost:8080/"
        },
        "id": "YYQkea3TqDGj",
        "outputId": "2fbbeaf0-d46d-46d0-f677-a1e3f40a109d"
      },
      "source": [
        "import re\n",
        "pwd = input(\"enter a password\")"
      ],
      "execution_count": 18,
      "outputs": [
        {
          "output_type": "stream",
          "text": [
            "enter a passwordhey123456\n"
          ],
          "name": "stdout"
        }
      ]
    },
    {
      "cell_type": "code",
      "metadata": {
        "colab": {
          "base_uri": "https://localhost:8080/"
        },
        "id": "7bZ4B0yRsMZy",
        "outputId": "a729fd54-b5b5-4fc5-a4f6-fa3721f71bae"
      },
      "source": [
        "if re.fullmatch(regex, pwd):\n",
        "  print(\"congratulations, there is a match\")\n",
        "else:\n",
        "  print(\"sorry, there is no match\")"
      ],
      "execution_count": 19,
      "outputs": [
        {
          "output_type": "stream",
          "text": [
            "congratulations, there is a match\n"
          ],
          "name": "stdout"
        }
      ]
    },
    {
      "cell_type": "code",
      "metadata": {
        "colab": {
          "base_uri": "https://localhost:8080/"
        },
        "id": "X57KHtYjvMf0",
        "outputId": "59b27759-e3f3-463d-8457-1816addcb7b7"
      },
      "source": [
        "pwd = input(\"enter a password\")"
      ],
      "execution_count": 22,
      "outputs": [
        {
          "output_type": "stream",
          "text": [
            "enter a passwordHey123456\n"
          ],
          "name": "stdout"
        }
      ]
    },
    {
      "cell_type": "code",
      "metadata": {
        "id": "q1Xo7bKPs6e8"
      },
      "source": [
        "regex = '(?=.*[A-Z])(?=.*[a-z])(?=.*[0-9]{6,})'"
      ],
      "execution_count": 23,
      "outputs": []
    },
    {
      "cell_type": "code",
      "metadata": {
        "colab": {
          "base_uri": "https://localhost:8080/"
        },
        "id": "fjPA-2LtvHnt",
        "outputId": "0a46283e-1b93-4ef1-9a45-a3e8d83c02bf"
      },
      "source": [
        "if re.fullmatch(regex, pwd):\n",
        "  print(\"match, yay!\")\n",
        "else:\n",
        "  print(\"sorry no match\")"
      ],
      "execution_count": 24,
      "outputs": [
        {
          "output_type": "stream",
          "text": [
            "sorry no match\n"
          ],
          "name": "stdout"
        }
      ]
    },
    {
      "cell_type": "code",
      "metadata": {
        "id": "cps85Go5wOS9"
      },
      "source": [
        "inputs = ['18:29', '23:55', '123', 'ab:de', '18:299', '99:99']"
      ],
      "execution_count": 25,
      "outputs": []
    },
    {
      "cell_type": "code",
      "metadata": {
        "id": "TSJx6L-g06JQ"
      },
      "source": [
        ""
      ],
      "execution_count": null,
      "outputs": []
    }
  ]
}